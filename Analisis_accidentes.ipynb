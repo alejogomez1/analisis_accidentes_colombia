{
 "cells": [
  {
   "cell_type": "markdown",
   "id": "582cd080",
   "metadata": {},
   "source": [
    "# Análisis en accidentes de transito"
   ]
  },
  {
   "cell_type": "markdown",
   "id": "6f69ed35",
   "metadata": {},
   "source": [
    "Analizando un DataSet de homicidios en accidentes de transito en Colombia entre los años 2010-2021"
   ]
  },
  {
   "cell_type": "code",
   "execution_count": 1,
   "id": "e057bea0",
   "metadata": {},
   "outputs": [],
   "source": [
    "#Importamos librerias\n",
    "import pandas as pd\n",
    "import numpy as np\n",
    "import matplotlib.pyplot as plt"
   ]
  },
  {
   "cell_type": "code",
   "execution_count": 2,
   "id": "c919a81b",
   "metadata": {},
   "outputs": [],
   "source": [
    "pd.options.display.float_format = '{:,.2f}'.format"
   ]
  },
  {
   "cell_type": "code",
   "execution_count": 3,
   "id": "4cd0dea8",
   "metadata": {
    "scrolled": true
   },
   "outputs": [
    {
     "ename": "FileNotFoundError",
     "evalue": "[Errno 2] No such file or directory: 'DataSet/Homicidios_accidente_de_tr_nsito_Polic_a_Nacional.csv'",
     "output_type": "error",
     "traceback": [
      "\u001b[0;31m---------------------------------------------------------------------------\u001b[0m",
      "\u001b[0;31mFileNotFoundError\u001b[0m                         Traceback (most recent call last)",
      "\u001b[0;32m<ipython-input-3-e70fc5dbdbea>\u001b[0m in \u001b[0;36m<module>\u001b[0;34m\u001b[0m\n\u001b[1;32m      1\u001b[0m \u001b[0;31m#Importamos DataSet\u001b[0m\u001b[0;34m\u001b[0m\u001b[0;34m\u001b[0m\u001b[0;34m\u001b[0m\u001b[0m\n\u001b[0;32m----> 2\u001b[0;31m \u001b[0mdf_accidents\u001b[0m \u001b[0;34m=\u001b[0m \u001b[0mpd\u001b[0m\u001b[0;34m.\u001b[0m\u001b[0mread_csv\u001b[0m\u001b[0;34m(\u001b[0m\u001b[0;34m'DataSet/Homicidios_accidente_de_tr_nsito_Polic_a_Nacional.csv'\u001b[0m\u001b[0;34m)\u001b[0m\u001b[0;34m\u001b[0m\u001b[0;34m\u001b[0m\u001b[0m\n\u001b[0m\u001b[1;32m      3\u001b[0m \u001b[0mdf_accidents\u001b[0m\u001b[0;34m\u001b[0m\u001b[0;34m\u001b[0m\u001b[0m\n",
      "\u001b[0;32m~/anaconda3/lib/python3.8/site-packages/pandas/util/_decorators.py\u001b[0m in \u001b[0;36mwrapper\u001b[0;34m(*args, **kwargs)\u001b[0m\n\u001b[1;32m    309\u001b[0m                     \u001b[0mstacklevel\u001b[0m\u001b[0;34m=\u001b[0m\u001b[0mstacklevel\u001b[0m\u001b[0;34m,\u001b[0m\u001b[0;34m\u001b[0m\u001b[0;34m\u001b[0m\u001b[0m\n\u001b[1;32m    310\u001b[0m                 )\n\u001b[0;32m--> 311\u001b[0;31m             \u001b[0;32mreturn\u001b[0m \u001b[0mfunc\u001b[0m\u001b[0;34m(\u001b[0m\u001b[0;34m*\u001b[0m\u001b[0margs\u001b[0m\u001b[0;34m,\u001b[0m \u001b[0;34m**\u001b[0m\u001b[0mkwargs\u001b[0m\u001b[0;34m)\u001b[0m\u001b[0;34m\u001b[0m\u001b[0;34m\u001b[0m\u001b[0m\n\u001b[0m\u001b[1;32m    312\u001b[0m \u001b[0;34m\u001b[0m\u001b[0m\n\u001b[1;32m    313\u001b[0m         \u001b[0;32mreturn\u001b[0m \u001b[0mwrapper\u001b[0m\u001b[0;34m\u001b[0m\u001b[0;34m\u001b[0m\u001b[0m\n",
      "\u001b[0;32m~/anaconda3/lib/python3.8/site-packages/pandas/io/parsers/readers.py\u001b[0m in \u001b[0;36mread_csv\u001b[0;34m(filepath_or_buffer, sep, delimiter, header, names, index_col, usecols, squeeze, prefix, mangle_dupe_cols, dtype, engine, converters, true_values, false_values, skipinitialspace, skiprows, skipfooter, nrows, na_values, keep_default_na, na_filter, verbose, skip_blank_lines, parse_dates, infer_datetime_format, keep_date_col, date_parser, dayfirst, cache_dates, iterator, chunksize, compression, thousands, decimal, lineterminator, quotechar, quoting, doublequote, escapechar, comment, encoding, encoding_errors, dialect, error_bad_lines, warn_bad_lines, on_bad_lines, delim_whitespace, low_memory, memory_map, float_precision, storage_options)\u001b[0m\n\u001b[1;32m    678\u001b[0m     \u001b[0mkwds\u001b[0m\u001b[0;34m.\u001b[0m\u001b[0mupdate\u001b[0m\u001b[0;34m(\u001b[0m\u001b[0mkwds_defaults\u001b[0m\u001b[0;34m)\u001b[0m\u001b[0;34m\u001b[0m\u001b[0;34m\u001b[0m\u001b[0m\n\u001b[1;32m    679\u001b[0m \u001b[0;34m\u001b[0m\u001b[0m\n\u001b[0;32m--> 680\u001b[0;31m     \u001b[0;32mreturn\u001b[0m \u001b[0m_read\u001b[0m\u001b[0;34m(\u001b[0m\u001b[0mfilepath_or_buffer\u001b[0m\u001b[0;34m,\u001b[0m \u001b[0mkwds\u001b[0m\u001b[0;34m)\u001b[0m\u001b[0;34m\u001b[0m\u001b[0;34m\u001b[0m\u001b[0m\n\u001b[0m\u001b[1;32m    681\u001b[0m \u001b[0;34m\u001b[0m\u001b[0m\n\u001b[1;32m    682\u001b[0m \u001b[0;34m\u001b[0m\u001b[0m\n",
      "\u001b[0;32m~/anaconda3/lib/python3.8/site-packages/pandas/io/parsers/readers.py\u001b[0m in \u001b[0;36m_read\u001b[0;34m(filepath_or_buffer, kwds)\u001b[0m\n\u001b[1;32m    573\u001b[0m \u001b[0;34m\u001b[0m\u001b[0m\n\u001b[1;32m    574\u001b[0m     \u001b[0;31m# Create the parser.\u001b[0m\u001b[0;34m\u001b[0m\u001b[0;34m\u001b[0m\u001b[0;34m\u001b[0m\u001b[0m\n\u001b[0;32m--> 575\u001b[0;31m     \u001b[0mparser\u001b[0m \u001b[0;34m=\u001b[0m \u001b[0mTextFileReader\u001b[0m\u001b[0;34m(\u001b[0m\u001b[0mfilepath_or_buffer\u001b[0m\u001b[0;34m,\u001b[0m \u001b[0;34m**\u001b[0m\u001b[0mkwds\u001b[0m\u001b[0;34m)\u001b[0m\u001b[0;34m\u001b[0m\u001b[0;34m\u001b[0m\u001b[0m\n\u001b[0m\u001b[1;32m    576\u001b[0m \u001b[0;34m\u001b[0m\u001b[0m\n\u001b[1;32m    577\u001b[0m     \u001b[0;32mif\u001b[0m \u001b[0mchunksize\u001b[0m \u001b[0;32mor\u001b[0m \u001b[0miterator\u001b[0m\u001b[0;34m:\u001b[0m\u001b[0;34m\u001b[0m\u001b[0;34m\u001b[0m\u001b[0m\n",
      "\u001b[0;32m~/anaconda3/lib/python3.8/site-packages/pandas/io/parsers/readers.py\u001b[0m in \u001b[0;36m__init__\u001b[0;34m(self, f, engine, **kwds)\u001b[0m\n\u001b[1;32m    931\u001b[0m \u001b[0;34m\u001b[0m\u001b[0m\n\u001b[1;32m    932\u001b[0m         \u001b[0mself\u001b[0m\u001b[0;34m.\u001b[0m\u001b[0mhandles\u001b[0m\u001b[0;34m:\u001b[0m \u001b[0mIOHandles\u001b[0m \u001b[0;34m|\u001b[0m \u001b[0;32mNone\u001b[0m \u001b[0;34m=\u001b[0m \u001b[0;32mNone\u001b[0m\u001b[0;34m\u001b[0m\u001b[0;34m\u001b[0m\u001b[0m\n\u001b[0;32m--> 933\u001b[0;31m         \u001b[0mself\u001b[0m\u001b[0;34m.\u001b[0m\u001b[0m_engine\u001b[0m \u001b[0;34m=\u001b[0m \u001b[0mself\u001b[0m\u001b[0;34m.\u001b[0m\u001b[0m_make_engine\u001b[0m\u001b[0;34m(\u001b[0m\u001b[0mf\u001b[0m\u001b[0;34m,\u001b[0m \u001b[0mself\u001b[0m\u001b[0;34m.\u001b[0m\u001b[0mengine\u001b[0m\u001b[0;34m)\u001b[0m\u001b[0;34m\u001b[0m\u001b[0;34m\u001b[0m\u001b[0m\n\u001b[0m\u001b[1;32m    934\u001b[0m \u001b[0;34m\u001b[0m\u001b[0m\n\u001b[1;32m    935\u001b[0m     \u001b[0;32mdef\u001b[0m \u001b[0mclose\u001b[0m\u001b[0;34m(\u001b[0m\u001b[0mself\u001b[0m\u001b[0;34m)\u001b[0m\u001b[0;34m:\u001b[0m\u001b[0;34m\u001b[0m\u001b[0;34m\u001b[0m\u001b[0m\n",
      "\u001b[0;32m~/anaconda3/lib/python3.8/site-packages/pandas/io/parsers/readers.py\u001b[0m in \u001b[0;36m_make_engine\u001b[0;34m(self, f, engine)\u001b[0m\n\u001b[1;32m   1215\u001b[0m             \u001b[0;31m# \"Union[str, PathLike[str], ReadCsvBuffer[bytes], ReadCsvBuffer[str]]\"\u001b[0m\u001b[0;34m\u001b[0m\u001b[0;34m\u001b[0m\u001b[0;34m\u001b[0m\u001b[0m\n\u001b[1;32m   1216\u001b[0m             \u001b[0;31m# , \"str\", \"bool\", \"Any\", \"Any\", \"Any\", \"Any\", \"Any\"\u001b[0m\u001b[0;34m\u001b[0m\u001b[0;34m\u001b[0m\u001b[0;34m\u001b[0m\u001b[0m\n\u001b[0;32m-> 1217\u001b[0;31m             self.handles = get_handle(  # type: ignore[call-overload]\n\u001b[0m\u001b[1;32m   1218\u001b[0m                 \u001b[0mf\u001b[0m\u001b[0;34m,\u001b[0m\u001b[0;34m\u001b[0m\u001b[0;34m\u001b[0m\u001b[0m\n\u001b[1;32m   1219\u001b[0m                 \u001b[0mmode\u001b[0m\u001b[0;34m,\u001b[0m\u001b[0;34m\u001b[0m\u001b[0;34m\u001b[0m\u001b[0m\n",
      "\u001b[0;32m~/anaconda3/lib/python3.8/site-packages/pandas/io/common.py\u001b[0m in \u001b[0;36mget_handle\u001b[0;34m(path_or_buf, mode, encoding, compression, memory_map, is_text, errors, storage_options)\u001b[0m\n\u001b[1;32m    787\u001b[0m         \u001b[0;32mif\u001b[0m \u001b[0mioargs\u001b[0m\u001b[0;34m.\u001b[0m\u001b[0mencoding\u001b[0m \u001b[0;32mand\u001b[0m \u001b[0;34m\"b\"\u001b[0m \u001b[0;32mnot\u001b[0m \u001b[0;32min\u001b[0m \u001b[0mioargs\u001b[0m\u001b[0;34m.\u001b[0m\u001b[0mmode\u001b[0m\u001b[0;34m:\u001b[0m\u001b[0;34m\u001b[0m\u001b[0;34m\u001b[0m\u001b[0m\n\u001b[1;32m    788\u001b[0m             \u001b[0;31m# Encoding\u001b[0m\u001b[0;34m\u001b[0m\u001b[0;34m\u001b[0m\u001b[0;34m\u001b[0m\u001b[0m\n\u001b[0;32m--> 789\u001b[0;31m             handle = open(\n\u001b[0m\u001b[1;32m    790\u001b[0m                 \u001b[0mhandle\u001b[0m\u001b[0;34m,\u001b[0m\u001b[0;34m\u001b[0m\u001b[0;34m\u001b[0m\u001b[0m\n\u001b[1;32m    791\u001b[0m                 \u001b[0mioargs\u001b[0m\u001b[0;34m.\u001b[0m\u001b[0mmode\u001b[0m\u001b[0;34m,\u001b[0m\u001b[0;34m\u001b[0m\u001b[0;34m\u001b[0m\u001b[0m\n",
      "\u001b[0;31mFileNotFoundError\u001b[0m: [Errno 2] No such file or directory: 'DataSet/Homicidios_accidente_de_tr_nsito_Polic_a_Nacional.csv'"
     ]
    }
   ],
   "source": [
    "#Importamos DataSet\n",
    "df_accidents = pd.read_csv('DataSet/Homicidios_accidente_de_tr_nsito_Polic_a_Nacional.csv')\n",
    "df_accidents"
   ]
  },
  {
   "cell_type": "markdown",
   "id": "85b1ea38",
   "metadata": {},
   "source": [
    "## Preprocesamiento de los datos"
   ]
  },
  {
   "cell_type": "code",
   "execution_count": null,
   "id": "28022495",
   "metadata": {},
   "outputs": [],
   "source": [
    "#Renombramos las columnas por comodidad\n",
    "columns_rename = {column:column.capitalize().replace(' ','_') for column in list(df_accidents)}\n",
    "df_accidents.rename(columns=columns_rename, inplace=True)"
   ]
  },
  {
   "cell_type": "code",
   "execution_count": null,
   "id": "c8539f2d",
   "metadata": {
    "scrolled": true
   },
   "outputs": [],
   "source": [
    "df_accidents.dtypes"
   ]
  },
  {
   "cell_type": "code",
   "execution_count": null,
   "id": "13f9864d",
   "metadata": {},
   "outputs": [],
   "source": [
    "#Definimos las columnas con valores categorícos\n",
    "df_accidents[['Departamento', 'Municipio', \n",
    "              'Codigo_dane', 'Armas_medios', \n",
    "              'Genero', 'Grupo_etarío', \n",
    "              'Descripción_conducta']] = df_accidents[['Departamento', 'Municipio', \n",
    "                                                       'Codigo_dane', 'Armas_medios', \n",
    "                                                       'Genero', 'Grupo_etarío', \n",
    "                                                       'Descripción_conducta']].astype('category')"
   ]
  },
  {
   "cell_type": "code",
   "execution_count": null,
   "id": "48c96310",
   "metadata": {},
   "outputs": [],
   "source": [
    "#Definimos la columna con formato de fecha\n",
    "df_accidents['Fecha_hecho'] = pd.to_datetime(df_accidents['Fecha_hecho'], format='%d/%m/%Y')"
   ]
  },
  {
   "cell_type": "code",
   "execution_count": null,
   "id": "7c32d3e4",
   "metadata": {
    "scrolled": true
   },
   "outputs": [],
   "source": [
    "df_accidents.describe(include='all', datetime_is_numeric=True)"
   ]
  },
  {
   "cell_type": "markdown",
   "id": "aea22547",
   "metadata": {},
   "source": [
    "## Procesando Datos"
   ]
  },
  {
   "cell_type": "markdown",
   "id": "eeca0622",
   "metadata": {},
   "source": [
    "### ¿Cuántos accidentes han ocurrido por año?"
   ]
  },
  {
   "cell_type": "code",
   "execution_count": null,
   "id": "dc75f217",
   "metadata": {},
   "outputs": [],
   "source": [
    "#Copiamos el DataFrame original\n",
    "df_copy = df_accidents.copy()\n",
    "df_copy['Total'] = 1"
   ]
  },
  {
   "cell_type": "raw",
   "id": "09d2eb8e",
   "metadata": {},
   "source": [
    "#Eliminamos las columnas innecesarias \n",
    "df_copy.drop(columns=['Departamento', 'Municipio', \n",
    "                                  'Codigo_dane', 'Armas_medios', \n",
    "                                  'Genero', 'Grupo_etarío', \n",
    "                                  'Descripción_conducta'], inplace=True)"
   ]
  },
  {
   "cell_type": "code",
   "execution_count": null,
   "id": "f49b44ef",
   "metadata": {},
   "outputs": [],
   "source": [
    "#Agrupamos por año\n",
    "fecha_cant_total = df_copy.groupby('Fecha_hecho').sum()\n",
    "fecha_cant_total_año = fecha_cant_total.resample('Y').sum()\n",
    "rename_index = {index:index.year for index in fecha_cant_total_año.index}\n",
    "fecha_cant_total_año = fecha_cant_total_año.rename(index=rename_index)\n",
    "fecha_cant_total_año"
   ]
  },
  {
   "cell_type": "code",
   "execution_count": null,
   "id": "85900c77",
   "metadata": {
    "scrolled": true
   },
   "outputs": [],
   "source": [
    "#Realizamos una representación gráfica de la tabla obtenida anteriormente\n",
    "año = fecha_cant_total_año.index\n",
    "cantidad = fecha_cant_total_año['Cantidad'].values\n",
    "\n",
    "x = np.arange(len(año))\n",
    "\n",
    "fig, ax = plt.subplots()\n",
    "ax.grid(linestyle=':')\n",
    "\n",
    "ax.bar(año, cantidad, width=1, color='salmon', edgecolor=\"red\", linewidth=1)\n",
    "ax.set_xlabel('Año')\n",
    "ax.set_ylabel('Accidentes')\n",
    "ax.set_title('Accidentes entre 2010-2021')\n",
    "fig.savefig('Imgs/img_accidentes_año.pdf')\n",
    "fig.savefig('Imgs/img_accidentes_año.jpeg')\n",
    "\n",
    "plt.show()\n"
   ]
  },
  {
   "cell_type": "markdown",
   "id": "e536508c",
   "metadata": {},
   "source": [
    "Finalemente obtenemos la siguiente tabla:"
   ]
  },
  {
   "cell_type": "markdown",
   "id": "41cb6fb0",
   "metadata": {},
   "source": [
    "|Año|Involucrados|Accidentes|\n",
    "|:--:|:--:|:--:|\n",
    "|2010|4500|3996|\n",
    "|2011|4295|3815|\n",
    "|2012|4549|4076|\n",
    "|2013|4922|4450|\n",
    "|2014|4835|4376|\n",
    "|2015|5344|4888|\n",
    "|2016|5609|5189|\n",
    "|2017|5261|4844|\n",
    "|2018|6017|5532|\n",
    "|2019|6053|5561|\n",
    "|2020|5068|4684|\n",
    "|2021|6914|6323|\n",
    "\n",
    "- Involucrados: Cantidad de personas en accidentes\n",
    "- Accidentes: Cantidad de accidentes"
   ]
  },
  {
   "cell_type": "markdown",
   "id": "90a4e933",
   "metadata": {},
   "source": [
    "### ¿Cuántos accidentes han ocurrido en cada mes?"
   ]
  },
  {
   "cell_type": "code",
   "execution_count": null,
   "id": "8da456f1",
   "metadata": {},
   "outputs": [],
   "source": [
    "#Copiamos el DataFrame original\n",
    "df_copy_2 = df_accidents.copy()\n",
    "df_copy_2['Total'] = 1\n",
    "df_copy_2['Mes'] = df_copy_2['Fecha_hecho'].dt.month.astype('category')\n",
    "df_copy_2['Año'] = df_copy_2['Fecha_hecho'].dt.year.astype('category')"
   ]
  },
  {
   "cell_type": "code",
   "execution_count": null,
   "id": "90c540f3",
   "metadata": {},
   "outputs": [],
   "source": [
    "df_month_sum = df_copy_2.groupby('Mes').sum()\n",
    "df_month_sum['Mean'] = df_month_sum['Total'] / 12\n",
    "df_month_sum"
   ]
  },
  {
   "cell_type": "code",
   "execution_count": null,
   "id": "3f97c25c",
   "metadata": {
    "scrolled": true
   },
   "outputs": [],
   "source": [
    "mes = list(df_month_sum.index)\n",
    "cantidad_m = df_month_sum['Cantidad'].values\n",
    "\n",
    "fig, ax = plt.subplots()\n",
    "ax.grid(linestyle=':')\n",
    "\n",
    "ax.bar(mes, cantidad_m, width=1, color='salmon', edgecolor=\"red\", linewidth=1)\n",
    "ax.set_xlabel('Mes')\n",
    "ax.set_ylabel('Accidentes')\n",
    "ax.set_title('Accidentes ocurridos por mes entre 2010-2021')\n",
    "fig.savefig('Imgs/img_accidentes_mes.pdf')\n",
    "fig.savefig('Imgs/img_accidentes_mes.jpeg')\n",
    "\n",
    "plt.show()"
   ]
  },
  {
   "cell_type": "markdown",
   "id": "0b153b50",
   "metadata": {},
   "source": [
    "Obtenemos entonces la siguiente tabla:"
   ]
  },
  {
   "cell_type": "markdown",
   "id": "865bfaa7",
   "metadata": {},
   "source": [
    "|Mes|Involucrados|Accidentes|Promedio|\n",
    "|:---:|:---:|:---:|:---:|\n",
    "|Enero|5383|4939|411.58|\n",
    "|Febrero|4993|4573|381.08|\n",
    "|Marzo|5306|4793|399.42|\n",
    "|Abril|4740|4307|358.92|\n",
    "|Mayo|4996|4536|378.00|\n",
    "|Junio|5207|4743|395.25|\n",
    "|Julio|5335|4845|403.75|\n",
    "|Agosto|5193|4767|397.25|\n",
    "|Septiembre|5235|4791|399.25|\n",
    "|Octubre|5582|5121|426.75|\n",
    "|Noviembre|5318|4819|401.58|\n",
    "|Diciembre|6079|5500|458.33|"
   ]
  },
  {
   "cell_type": "markdown",
   "id": "ccbf3f84",
   "metadata": {},
   "source": [
    "### ¿En qué proporción afecta los accidentes a los grupos etaríos y genero?"
   ]
  },
  {
   "cell_type": "code",
   "execution_count": null,
   "id": "5a755c5d",
   "metadata": {},
   "outputs": [],
   "source": [
    "#Copiamos el DataFrame original\n",
    "df_copy_3 = df_accidents.copy()\n",
    "pd.get_dummies(df_copy_3['Genero'])\n",
    "df_copy_3 = pd.concat([df_copy_3, pd.get_dummies(df_copy_3['Genero'])], axis=1)\n",
    "df_copy_3['Genero'].value_counts()"
   ]
  },
  {
   "cell_type": "code",
   "execution_count": null,
   "id": "e9d18591",
   "metadata": {
    "scrolled": true
   },
   "outputs": [],
   "source": [
    "df_adultos = df_copy_3.set_index('Grupo_etarío').loc['ADULTOS']\n",
    "df_adolecentes = df_copy_3.set_index('Grupo_etarío').loc['ADOLESCENTES']\n",
    "df_menores = df_copy_3.set_index('Grupo_etarío').loc['MENORES']"
   ]
  },
  {
   "cell_type": "markdown",
   "id": "be026790",
   "metadata": {},
   "source": [
    "#### Año"
   ]
  },
  {
   "cell_type": "code",
   "execution_count": null,
   "id": "a2849058",
   "metadata": {},
   "outputs": [],
   "source": [
    "df_adultos['Total'] = 1\n",
    "fecha_adultos_año = df_adultos.groupby('Fecha_hecho').sum().resample('Y').sum()\n",
    "rename_index = {index:index.year for index in fecha_adultos_año.index}\n",
    "fecha_adultos_año = fecha_adultos_año.rename(index=rename_index)\n",
    "fecha_adultos_año"
   ]
  },
  {
   "cell_type": "code",
   "execution_count": null,
   "id": "d4236e54",
   "metadata": {},
   "outputs": [],
   "source": [
    "df_adolecentes['Total'] = 1\n",
    "fecha_adolecentes_año = df_adolecentes.groupby('Fecha_hecho').sum().resample('Y').sum()\n",
    "rename_index = {index:index.year for index in fecha_adolecentes_año.index}\n",
    "fecha_adolecentes_año = fecha_adolecentes_año.rename(index=rename_index)\n",
    "fecha_adolecentes_año"
   ]
  },
  {
   "cell_type": "code",
   "execution_count": null,
   "id": "3f87a065",
   "metadata": {},
   "outputs": [],
   "source": [
    "df_menores['Total'] = 1\n",
    "fecha_menores_año = df_menores.groupby('Fecha_hecho').sum().resample('Y').sum()\n",
    "rename_index = {index:index.year for index in fecha_menores_año.index}\n",
    "fecha_menores_año = fecha_menores_año.rename(index=rename_index)\n",
    "fecha_menores_año"
   ]
  },
  {
   "cell_type": "code",
   "execution_count": null,
   "id": "2fdd4b3c",
   "metadata": {},
   "outputs": [],
   "source": [
    "año = fecha_adultos_año.index\n",
    "x = np.arange(len(año))\n",
    "y_adultos_m = fecha_adultos_año['MASCULINO'].values\n",
    "y_adultos_f = fecha_adultos_año['FEMENINO'].values"
   ]
  },
  {
   "cell_type": "code",
   "execution_count": null,
   "id": "ed1ae217",
   "metadata": {
    "scrolled": true
   },
   "outputs": [],
   "source": [
    "width = 0.5\n",
    "\n",
    "#f, (ax1, ax2, x3) = plt.subplots(1, 3, sharey=True)\n",
    "fig, ax1 = plt.subplots()\n",
    "\n",
    "bar_am = ax1.bar(año - width/2, y_adultos_m, width=width, label='Masculino')\n",
    "bar_af = ax1.bar(año + width/2, y_adultos_f, width=width, label='Femenino')\n",
    "ax1.set(xlim=(2009, 2022))\n",
    "#ax1.set_xticks(año)\n",
    "ax1.legend()\n",
    "ax1.set_xlabel('Año')\n",
    "ax1.set_ylabel('Accidentes')\n",
    "ax1.set_title('Accidentes Adultos ocurridos entre 2010-2021')\n",
    "\n",
    "\n",
    "\n",
    "plt.show()\n",
    "\n"
   ]
  },
  {
   "cell_type": "code",
   "execution_count": null,
   "id": "61c3393c",
   "metadata": {},
   "outputs": [],
   "source": [
    "año = fecha_adolecentes_año.index\n",
    "x = np.arange(len(año))\n",
    "y_adolecentes_m = fecha_adolecentes_año['MASCULINO'].values\n",
    "y_adolecentes_f = fecha_adolecentes_año['FEMENINO'].values"
   ]
  },
  {
   "cell_type": "code",
   "execution_count": null,
   "id": "6d73acb7",
   "metadata": {
    "scrolled": false
   },
   "outputs": [],
   "source": [
    "fig, ax2 = plt.subplots()\n",
    "\n",
    "bar_am = ax2.bar(año - width/2, y_adolecentes_m, width=width, label='Masculino')\n",
    "bar_af = ax2.bar(año + width/2, y_adolecentes_f, width=width, label='Femenino')\n",
    "ax2.set(xlim=(2009, 2022))\n",
    "#ax2.set_xticks(año)\n",
    "ax2.legend()\n",
    "ax2.set_xlabel('Año')\n",
    "ax2.set_ylabel('Accidentes')\n",
    "ax2.set_title('Accidentes adolecentes ocurridos entre 2010-2021')\n",
    "\n",
    "plt.show()"
   ]
  },
  {
   "cell_type": "code",
   "execution_count": null,
   "id": "22cd3aa6",
   "metadata": {},
   "outputs": [],
   "source": [
    "año = fecha_menores_año.index\n",
    "x = np.arange(len(año))\n",
    "y_menores_m = fecha_menores_año['MASCULINO'].values\n",
    "y_menores_f = fecha_menores_año['FEMENINO'].values"
   ]
  },
  {
   "cell_type": "code",
   "execution_count": null,
   "id": "2d83726d",
   "metadata": {
    "scrolled": true
   },
   "outputs": [],
   "source": [
    "fig, ax3 = plt.subplots()\n",
    "\n",
    "bar_am = ax3.bar(año - width/2, y_menores_m, width=width, label='Masculino')\n",
    "bar_af = ax3.bar(año + width/2, y_menores_f, width=width, label='Femenino')\n",
    "ax3.set(xlim=(2009, 2022))\n",
    "#ax3.set_xticks(año)\n",
    "ax3.legend()\n",
    "ax3.set_xlabel('Año')\n",
    "ax3.set_ylabel('Accidentes')\n",
    "ax3.set_title('Accidentes menores ocurridos entre 2010-2021')\n",
    "\n",
    "plt.show()"
   ]
  },
  {
   "cell_type": "code",
   "execution_count": null,
   "id": "869a0619",
   "metadata": {},
   "outputs": [],
   "source": []
  },
  {
   "cell_type": "code",
   "execution_count": null,
   "id": "cc840c76",
   "metadata": {},
   "outputs": [],
   "source": [
    "f, (ax1, ax2, ax3) = plt.subplots(1, 3 , sharey=True)\n",
    "\n",
    "bar_am = ax1.bar(año - width/2, y_adultos_m, width=width, label='Masculino')\n",
    "bar_af = ax1.bar(año + width/2, y_adultos_f, width=width, label='Femenino')\n",
    "ax1.set(xlim=(2009, 2022))\n",
    "##ax1.set_xticks(año)\n",
    "ax1.legend()\n",
    "#ax1.set_xlabel('Año')\n",
    "ax1.set_ylabel('Accidentes')\n",
    "ax1.set_title('Adultos')\n",
    "\n",
    "bar_adm = ax2.bar(año - width/2, y_adolecentes_m, width=width, label='Masculino')\n",
    "bar_adf = ax2.bar(año + width/2, y_adolecentes_f, width=width, label='Femenino')\n",
    "ax2.set(xlim=(2009, 2022))\n",
    "##ax2.set_xticks(año)\n",
    "ax2.legend()\n",
    "ax2.set_xlabel('Año')\n",
    "#ax2.set_ylabel('Accidentes')\n",
    "ax2.set_title('Adolecentes')\n",
    "\n",
    "bar_mm = ax3.bar(año - width/2, y_menores_m, width=width, label='Masculino')\n",
    "bar_mf = ax3.bar(año + width/2, y_menores_f, width=width, label='Femenino')\n",
    "ax3.set(xlim=(2009, 2022))\n",
    "#0#ax3.set_xticks(año)\n",
    "ax3.legend()\n",
    "#ax3.set_xlabel('Año')\n",
    "#ax3.set_ylabel('Accidentes')\n",
    "ax3.set_title('Menores')\n",
    "\n",
    "ax1.grid(linestyle=':')\n",
    "ax2.grid(linestyle=':')\n",
    "ax3.grid(linestyle=':')\n",
    "\n",
    "f.savefig('Imgs/grupos.pdf')\n",
    "\n",
    "plt.show()"
   ]
  },
  {
   "cell_type": "code",
   "execution_count": null,
   "id": "2f208184",
   "metadata": {},
   "outputs": [],
   "source": []
  },
  {
   "cell_type": "code",
   "execution_count": null,
   "id": "c9ccfcae",
   "metadata": {},
   "outputs": [],
   "source": []
  },
  {
   "cell_type": "code",
   "execution_count": null,
   "id": "18c924cd",
   "metadata": {},
   "outputs": [],
   "source": []
  },
  {
   "cell_type": "code",
   "execution_count": null,
   "id": "30d8d32e",
   "metadata": {},
   "outputs": [],
   "source": []
  },
  {
   "cell_type": "code",
   "execution_count": null,
   "id": "5dd60df4",
   "metadata": {},
   "outputs": [],
   "source": []
  },
  {
   "cell_type": "code",
   "execution_count": null,
   "id": "7eb07bd2",
   "metadata": {},
   "outputs": [],
   "source": []
  },
  {
   "cell_type": "code",
   "execution_count": null,
   "id": "8d0eb586",
   "metadata": {},
   "outputs": [],
   "source": []
  }
 ],
 "metadata": {
  "kernelspec": {
   "display_name": "Python 3 (ipykernel)",
   "language": "python",
   "name": "python3"
  },
  "language_info": {
   "codemirror_mode": {
    "name": "ipython",
    "version": 3
   },
   "file_extension": ".py",
   "mimetype": "text/x-python",
   "name": "python",
   "nbconvert_exporter": "python",
   "pygments_lexer": "ipython3",
   "version": "3.8.8"
  }
 },
 "nbformat": 4,
 "nbformat_minor": 5
}
